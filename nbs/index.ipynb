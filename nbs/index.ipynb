{
 "cells": [
  {
   "cell_type": "markdown",
   "metadata": {},
   "source": [
    "# Welcome to fastai v2\n",
    "> NB: This is still in early development. Use v1 unless you want to contribute to the next version of fastai"
   ]
  },
  {
   "cell_type": "markdown",
   "metadata": {},
   "source": [
    "To learn more about the library, read our introduction in the [paper](https://arxiv.org/abs/2002.04688) presenting it."
   ]
  },
  {
   "cell_type": "markdown",
   "metadata": {},
   "source": [
    "## Installing"
   ]
  },
  {
   "cell_type": "markdown",
   "metadata": {},
   "source": [
    "You can get all the necessary dependencies by simply installing fastai v1: `conda install -c fastai -c pytorch fastai`. Or alternatively you can automatically install the dependencies into a new environment:\n",
    "\n",
    "```bash\n",
    "git clone https://github.com/fastai/fastai2\n",
    "cd fastai2\n",
    "conda env create -f environment.yml\n",
    "source activate fastai2\n",
    "```\n",
    "\n",
    "Then, you can install fastai v2 with pip: `pip install fastai2`. \n",
    "\n",
    "Or you can use an editable install (which is probably the best approach at the moment, since fastai v2 is under heavy development):\n",
    "``` \n",
    "git clone https://github.com/fastai/fastai2\n",
    "cd fastai2\n",
    "pip install -e \".[dev]\"\n",
    "``` \n",
    "You should also use an editable install of [`fastcore`](https://github.com/fastai/fastcore) to go with it.\n",
    "\n",
    "If you want to browse the notebooks and build the library from them you will need nbdev:\n",
    "``` \n",
    "pip install nbdev\n",
    "``` \n",
    "\n",
    "To use `fastai2.medical.imaging` you'll also need to:\n",
    "\n",
    "```bash\n",
    "conda install pyarrow\n",
    "pip install pydicom kornia opencv-python scikit-image\n",
    "```"
   ]
  },
  {
   "cell_type": "markdown",
   "metadata": {},
   "source": [
    "## Tests"
   ]
  },
  {
   "cell_type": "markdown",
   "metadata": {},
   "source": [
    "To run the tests in parallel, launch:\n",
    "\n",
    "```bash\n",
    "nbdev_test_nbs\n",
    "```\n",
    "or \n",
    "```bash\n",
    "make test\n",
    "```"
   ]
  },
  {
   "cell_type": "markdown",
   "metadata": {},
   "source": [
    "## Contributing"
   ]
  },
  {
   "cell_type": "markdown",
   "metadata": {},
   "source": [
    "After you clone this repository, please run `nbdev_install_git_hooks` in your terminal. This sets up git hooks, which clean up the notebooks to remove the extraneous stuff stored in the notebooks (e.g. which cells you ran) which causes unnecessary merge conflicts.\n",
    "\n",
    "Before submitting a PR, check that the local library and notebooks match. The script `nbdev_diff_nbs` can let you know if there is a difference between the local library and the notebooks.\n",
    "* If you made a change to the notebooks in one of the exported cells, you can export it to the library with `nbdev_build_lib` or `make fastai2`.\n",
    "* If you made a change to the library, you can export it back to the notebooks with `nbdev_update_lib`."
   ]
  }
 ],
 "metadata": {
  "jekyll": {
   "keywords": "fastai"
  },
  "jupytext": {
   "split_at_heading": true
  },
  "kernelspec": {
   "display_name": "Python 3",
   "language": "python",
   "name": "python3"
  }
 },
 "nbformat": 4,
 "nbformat_minor": 4
}
